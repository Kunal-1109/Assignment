{
  "cells": [
    {
      "cell_type": "code",
      "source": [
        "A=[\"Kunal\",\"Hinge\",\"Male\",\"Student\"]\n",
        "B=[\"9110\",\"TYBSc\",\"B\",\"Sir Parshurambhau College\"]\n"
      ],
      "metadata": {
        "id": "BwV-59bnupuB"
      },
      "execution_count": 24,
      "outputs": []
    },
    {
      "cell_type": "code",
      "source": [
        "tuple(A)\n"
      ],
      "metadata": {
        "colab": {
          "base_uri": "https://localhost:8080/"
        },
        "id": "A0k9a576u98h",
        "outputId": "9bcb533d-3eec-4f65-9fcc-88a397c43522"
      },
      "execution_count": 25,
      "outputs": [
        {
          "output_type": "execute_result",
          "data": {
            "text/plain": [
              "('Kunal', 'Hinge', 'Male', 'Student')"
            ]
          },
          "metadata": {},
          "execution_count": 25
        }
      ]
    },
    {
      "cell_type": "code",
      "source": [
        "tuple(B)\n"
      ],
      "metadata": {
        "colab": {
          "base_uri": "https://localhost:8080/"
        },
        "id": "H218LbmUvGPj",
        "outputId": "932be45f-66ec-467c-ec87-fc102d85ac70"
      },
      "execution_count": 26,
      "outputs": [
        {
          "output_type": "execute_result",
          "data": {
            "text/plain": [
              "('9110', 'TYBSc', 'B', 'Sir PArshurambhau College')"
            ]
          },
          "metadata": {},
          "execution_count": 26
        }
      ]
    },
    {
      "cell_type": "code",
      "source": [
        "a=('Kunal', 'Hinge', 'Male', 'Student')\n",
        "b=('9110', 'TYBSc', 'B' , 'Sir Parshurambhau College')\n",
        "\n",
        "print(type(a))\n",
        "\n",
        "print(a)\n",
        "print(a[:3])\n",
        "print(a[2:])\n",
        "print(a[3])\n",
        "print(a[:2])\n",
        "print(a[1:2])\n",
        "print(b,\"\\n\")\n"
      ],
      "metadata": {
        "colab": {
          "base_uri": "https://localhost:8080/"
        },
        "id": "Q7fc3mYwvGai",
        "outputId": "0784a6d9-1209-4734-9c39-e30524951ef6"
      },
      "execution_count": 27,
      "outputs": [
        {
          "output_type": "stream",
          "name": "stdout",
          "text": [
            "<class 'tuple'>\n",
            "('Kunal', 'Hinge', 'Male', 'Student')\n",
            "('Kunal', 'Hinge', 'Male')\n",
            "('Male', 'Student')\n",
            "Student\n",
            "('Kunal', 'Hinge')\n",
            "('Hinge',)\n",
            "('9110', 'TYBSc', 'B', 'Sir Parshurambhau College') \n",
            "\n"
          ]
        }
      ]
    },
    {
      "cell_type": "code",
      "source": [
        "for j in a:\n",
        "    print(j)\n"
      ],
      "metadata": {
        "colab": {
          "base_uri": "https://localhost:8080/"
        },
        "id": "hD-LmVPRvGiN",
        "outputId": "862eaee2-5f9f-4154-e4dd-9e2b08620c27"
      },
      "execution_count": 28,
      "outputs": [
        {
          "output_type": "stream",
          "name": "stdout",
          "text": [
            "Kunal\n",
            "Hinge\n",
            "Male\n",
            "Student\n"
          ]
        }
      ]
    },
    {
      "cell_type": "code",
      "source": [
        "\n",
        "if \"TYBSc\" in b:\n",
        "    print(\"Kunal is in TYBSc\")\n"
      ],
      "metadata": {
        "colab": {
          "base_uri": "https://localhost:8080/"
        },
        "id": "4p7nJ25dvGnD",
        "outputId": "a731c069-d442-4294-fc02-778079cf2eb3"
      },
      "execution_count": 22,
      "outputs": [
        {
          "output_type": "stream",
          "name": "stdout",
          "text": [
            "Kunal is in TYBSc\n"
          ]
        }
      ]
    },
    {
      "cell_type": "code",
      "source": [
        "c=tuple(\"Pune\")\n",
        "a+b+c\n"
      ],
      "metadata": {
        "colab": {
          "base_uri": "https://localhost:8080/"
        },
        "id": "918TF0XTvGs8",
        "outputId": "45badf77-d1db-4346-c10e-71f392fe87eb"
      },
      "execution_count": 30,
      "outputs": [
        {
          "output_type": "execute_result",
          "data": {
            "text/plain": [
              "('Kunal',\n",
              " 'Hinge',\n",
              " 'Male',\n",
              " 'Student',\n",
              " '9110',\n",
              " 'TYBSc',\n",
              " 'B',\n",
              " 'Sir Parshurambhau College',\n",
              " 'P',\n",
              " 'u',\n",
              " 'n',\n",
              " 'e')"
            ]
          },
          "metadata": {},
          "execution_count": 30
        }
      ]
    }
  ],
  "metadata": {
    "colab": {
      "collapsed_sections": [],
      "name": "Welcome To Colaboratory",
      "provenance": []
    },
    "kernelspec": {
      "display_name": "Python 3",
      "name": "python3"
    }
  },
  "nbformat": 4,
  "nbformat_minor": 0
}