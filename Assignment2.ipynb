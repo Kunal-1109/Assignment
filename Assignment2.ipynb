{
  "cells": [
    {
      "cell_type": "code",
      "source": [
        "# Question 1\n",
        "def reverse_string(str):  \n",
        "    Rev = \"\"   \n",
        "    for i in str:  \n",
        "        Rev = i + Rev  \n",
        "    return Rev    \n",
        "     \n",
        "str = \"Kunal\"         \n",
        "print(\"The original string is: \",str)  \n",
        "print(\"The reverse string is\",reverse_string(str))\n"
      ],
      "metadata": {
        "id": "CLdKehf4yCTr",
        "outputId": "17d6ca8c-d728-4ee8-dbf5-bd4cb75e9c0a",
        "colab": {
          "base_uri": "https://localhost:8080/"
        }
      },
      "execution_count": 1,
      "outputs": [
        {
          "output_type": "stream",
          "name": "stdout",
          "text": [
            "The original string is:  Kunal\n",
            "The reverse string is lanuK\n"
          ]
        }
      ]
    },
    {
      "cell_type": "code",
      "source": [
        "# Question 2\n",
        "Choice1=(int)(input(\"\\n\\t Enter your 1st number: \"))\n",
        "Choice2=(int)(input(\"\\n\\t Enter your 2st number: \"))\n",
        "Choice3=(int)(input(\"\\n\\t Enter your 3st number: \"))\n",
        "Choice4=(int)(input(\"\\n\\t Enter your 4st number: \"))\n",
        "print(\"Maximum number is: \",max(Choice1,Choice2,Choice3,Choice4))\n",
        "print(\"Minimum number is:\",min(Choice1,Choice2,Choice3,Choice4))\n"
      ],
      "metadata": {
        "id": "odmXMcGlyCmA",
        "outputId": "43a1e012-bb5d-49fd-df2e-67ddbee9eb41",
        "colab": {
          "base_uri": "https://localhost:8080/"
        }
      },
      "execution_count": 2,
      "outputs": [
        {
          "output_type": "stream",
          "name": "stdout",
          "text": [
            "\n",
            "\t Enter your 1st number: 10\n",
            "\n",
            "\t Enter your 2st number: 21\n",
            "\n",
            "\t Enter your 3st number: 11\n",
            "\n",
            "\t Enter your 4st number: 9\n",
            "Maximum number is:  21\n",
            "Minimum number is: 9\n"
          ]
        }
      ]
    },
    {
      "cell_type": "code",
      "source": [
        "# Question 3\n",
        "Choice1=(int)(input(\"\\n\\t Enter your 1st number: \"))\n",
        "Choice2=(int)(input(\"\\n\\t Enter your 2st number: \"))\n",
        "Choice3=(int)(input(\"\\n\\t Enter your 3st number: \"))\n",
        "Choice4=(int)(input(\"\\n\\t Enter your 4st number: \"))\n",
        "Choice=[Choice1,Choice2,Choice3,Choice4]\n",
        "print(\"Addition of number is: \",sum(Choice))\n"
      ],
      "metadata": {
        "id": "LCcz0rpiyCtg",
        "outputId": "7e5200d8-8cf2-4f81-d414-9d8e258f71c6",
        "colab": {
          "base_uri": "https://localhost:8080/"
        }
      },
      "execution_count": 3,
      "outputs": [
        {
          "output_type": "stream",
          "name": "stdout",
          "text": [
            "\n",
            "\t Enter your 1st number: 1\n",
            "\n",
            "\t Enter your 2st number: 2\n",
            "\n",
            "\t Enter your 3st number: 3\n",
            "\n",
            "\t Enter your 4st number: 4\n",
            "Addition of number is:  10\n"
          ]
        }
      ]
    },
    {
      "cell_type": "code",
      "source": [
        "# Question 4\n",
        "def P1():\n",
        "    P=12\n",
        "    Q=\"Kunal\"\n",
        "    R=14\n",
        "print(P1.__code__.co_nlocals)"
      ],
      "metadata": {
        "id": "LA8GnTJ_yC17",
        "outputId": "9803b72f-2d0c-464c-e030-c4772a3585c7",
        "colab": {
          "base_uri": "https://localhost:8080/"
        }
      },
      "execution_count": 2,
      "outputs": [
        {
          "output_type": "stream",
          "name": "stdout",
          "text": [
            "3\n"
          ]
        }
      ]
    },
    {
      "cell_type": "code",
      "source": [
        "# Question 5\n",
        "Even=[25,46,85,35,43,26,34,92]\n",
        "\n",
        "for Num in Even:\n",
        "    if Num %2==0:\n",
        "        print(Num)"
      ],
      "metadata": {
        "id": "COMCGQ94yDAU",
        "outputId": "f8f02f28-9899-4e3e-d406-ceaf300f8087",
        "colab": {
          "base_uri": "https://localhost:8080/"
        }
      },
      "execution_count": 4,
      "outputs": [
        {
          "output_type": "stream",
          "name": "stdout",
          "text": [
            "46\n",
            "26\n",
            "34\n",
            "92\n"
          ]
        }
      ]
    }
  ],
  "metadata": {
    "colab": {
      "collapsed_sections": [],
      "name": "Welcome To Colaboratory",
      "provenance": []
    },
    "kernelspec": {
      "display_name": "Python 3",
      "name": "python3"
    }
  },
  "nbformat": 4,
  "nbformat_minor": 0
}